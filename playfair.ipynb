{
 "cells": [
  {
   "cell_type": "code",
   "execution_count": 31,
   "metadata": {},
   "outputs": [],
   "source": [
    "def caps(input):\n",
    "    #capitalizing all letter\n",
    "    return input.upper()"
   ]
  },
  {
   "cell_type": "code",
   "execution_count": 32,
   "metadata": {},
   "outputs": [],
   "source": [
    "def make_key_matrix(key):\n",
    "    key_array = []\n",
    "    \n",
    "    #append key first\n",
    "    for i in key:\n",
    "        #special rule for letter J\n",
    "        if i == \"J\": i = \"I\"\n",
    "        \n",
    "        #check if the letter already in array\n",
    "        if i not in key_array:\n",
    "            key_array.append(i)\n",
    "\n",
    "    alphabet = ['A', 'B', 'C', 'D', 'E', 'F', 'G', 'H', 'I', 'K', 'L', 'M','N', 'O', 'P', 'Q', 'R', 'S', 'T', 'U', 'V', 'W', 'X', 'Y', 'Z']\n",
    "    #then the rest of alphabet\n",
    "    for i in alphabet:\n",
    "        if i not in key:\n",
    "            key_array.append(i)\n",
    "\n",
    "    #make into 5x5 matrix\n",
    "    key_matrix = []\n",
    "    while key_array != []:\n",
    "        key_matrix.append(key_array[:5])\n",
    "        key_array = key_array[5:]\n",
    "        #print(key_array)\n",
    "            \n",
    "    #print(key_matrix)\n",
    "    return key_matrix"
   ]
  },
  {
   "cell_type": "code",
   "execution_count": 33,
   "metadata": {},
   "outputs": [],
   "source": [
    "def prepare_text(plaintext):\n",
    "    array_text=[]\n",
    "    prev = \"\"\n",
    "    for i in plaintext:\n",
    "        #special rule for letter J\n",
    "        if i == \"J\": i = \"I\"\n",
    "\n",
    "        #get last element if array not empty\n",
    "        if len(array_text)>0: \n",
    "            prev = array_text[-1]\n",
    "\n",
    "        #append x if current and prev is the same\n",
    "        if prev == i:\n",
    "            array_text.append(\"X\")\n",
    "\n",
    "        #append the rest of text except space character\n",
    "        if i != \" \":\n",
    "            array_text.append(i)\n",
    "        else:\n",
    "            continue\n",
    "        \n",
    "    #if text is odd length, add Z\n",
    "    if len(array_text)%2:\n",
    "        array_text.append(\"Z\")\n",
    "    \n",
    "    return array_text\n",
    "    \n"
   ]
  },
  {
   "cell_type": "code",
   "execution_count": 34,
   "metadata": {},
   "outputs": [],
   "source": [
    "def split_text(plaintext):\n",
    "    array_text = prepare_text(plaintext)\n",
    "\n",
    "    #split into 2d array [][2]\n",
    "    two_letter_array = []\n",
    "    while array_text != []:\n",
    "        two_letter_array.append(array_text[:2])\n",
    "        array_text = array_text[2:]\n",
    "        #print(array_text)\n",
    "    #print(two_letter_array)\n",
    "    return two_letter_array\n",
    "    \n",
    "            "
   ]
  },
  {
   "cell_type": "code",
   "execution_count": 35,
   "metadata": {},
   "outputs": [],
   "source": [
    "def search(matrix_key, letter):\n",
    "    i=0\n",
    "    j=0\n",
    "    #search for letter in key matrix\n",
    "    for i in range(5):\n",
    "        for j in range(5):\n",
    "            if letter == matrix_key[i][j]:\n",
    "                index = [i,j]\n",
    "                #print(index)\n",
    "                return index\n",
    "    "
   ]
  },
  {
   "cell_type": "code",
   "execution_count": 36,
   "metadata": {},
   "outputs": [],
   "source": [
    "def add_index(num):\n",
    "    if num == 4:\n",
    "        return 0\n",
    "    else:\n",
    "        return num+1"
   ]
  },
  {
   "cell_type": "code",
   "execution_count": 37,
   "metadata": {},
   "outputs": [],
   "source": [
    "def encryption_rules(first_index, second_index):\n",
    "    #print(first_index, second_index)\n",
    "\n",
    "    #if in the same column, shift down\n",
    "    if first_index[1] == second_index[1]:\n",
    "        first_index[0] = add_index(first_index[0])\n",
    "        second_index[0] = add_index(second_index[0])\n",
    "\n",
    "    #if in the same row, shift right\n",
    "    if first_index[0] == second_index[0]:\n",
    "        first_index[1] = add_index(first_index[1])\n",
    "        second_index[1] = add_index(second_index[1])\n",
    "\n",
    "    #else, switch using rectangle, horizontal opposite\n",
    "    else:\n",
    "        hold = first_index[1]\n",
    "        first_index[1] = second_index[1]\n",
    "        second_index[1] = hold\n",
    "    \n",
    "    return [first_index, second_index]\n",
    "    "
   ]
  },
  {
   "cell_type": "code",
   "execution_count": 38,
   "metadata": {},
   "outputs": [],
   "source": [
    "def start_encrypt(matrix_key, plaintext):\n",
    "    encrypted_text = \"\"\n",
    "\n",
    "    length = len(plaintext)\n",
    "    for i in range(length):\n",
    "        #get index in matrix key\n",
    "        first_index = search(matrix_key, plaintext[i][0])\n",
    "        second_index = search(matrix_key, plaintext[i][1])\n",
    "\n",
    "        #apply encryption rules\n",
    "        new_first, new_second = encryption_rules(first_index, second_index)\n",
    "        \n",
    "        #append encrypted letters to text\n",
    "        encrypted_text += matrix_key[new_first[0]][new_first[1]]\n",
    "        encrypted_text += matrix_key[new_second[0]][new_second[1]]\n",
    "\n",
    "        #print(encrypted_text)\n",
    "\n",
    "    return encrypted_text\n"
   ]
  },
  {
   "cell_type": "code",
   "execution_count": 39,
   "metadata": {},
   "outputs": [],
   "source": [
    "def encrypt(key, plaintext):\n",
    "    #make both key and plaintext all capitalized\n",
    "    key = caps(key)\n",
    "    plaintext = caps(plaintext)\n",
    "\n",
    "    print(\"KEY: \", key)\n",
    "    print(\"PLAINTEXT: \", plaintext)\n",
    "\n",
    "    #make key matrix\n",
    "    matrix = make_key_matrix(key)\n",
    "    print(\"KEY MATRIX = \", matrix)\n",
    "    #split text into 2 letter each\n",
    "    ready_text = split_text(plaintext)\n",
    "    result = start_encrypt(matrix, ready_text)\n",
    "\n",
    "    return result\n"
   ]
  },
  {
   "cell_type": "code",
   "execution_count": 40,
   "metadata": {},
   "outputs": [
    {
     "name": "stdout",
     "output_type": "stream",
     "text": [
      "KEY:  XJVJEGHAGJERIGJEWIJFSOR\n",
      "PLAINTEXT:  JDNVGSOERQWOEDJVIVFOKFOERMGKW\n",
      "KEY MATRIX =  [['X', 'I', 'V', 'E', 'G'], ['H', 'A', 'R', 'W', 'F'], ['S', 'O', 'B', 'C', 'D'], ['K', 'L', 'M', 'N', 'P'], ['Q', 'T', 'U', 'Y', 'Z']]\n",
      "ENCRYPTED TEXT: GOMEXDCIHUACGCVEVEADPHCIBUXPFY\n"
     ]
    }
   ],
   "source": [
    "key = \"xjvjeghagjerigjewijfsor\"\n",
    "plaintext = \"jdnvgsoerqwoedjvivfokfoermgkw\"\n",
    "\n",
    "# key = input(\"Key: \")\n",
    "# plaintext = input(\"Plain Text: \")\n",
    "\n",
    "encryptedtext = encrypt(key, plaintext)\n",
    "print(\"ENCRYPTED TEXT:\", encryptedtext)"
   ]
  }
 ],
 "metadata": {
  "kernelspec": {
   "display_name": "Python 3.10.1 64-bit",
   "language": "python",
   "name": "python3"
  },
  "language_info": {
   "codemirror_mode": {
    "name": "ipython",
    "version": 3
   },
   "file_extension": ".py",
   "mimetype": "text/x-python",
   "name": "python",
   "nbconvert_exporter": "python",
   "pygments_lexer": "ipython3",
   "version": "3.10.1"
  },
  "orig_nbformat": 4,
  "vscode": {
   "interpreter": {
    "hash": "52c95d02f1bfe7c59da35d3ff8fa76f7d162251a8bf0068369a0a87df4b3e5e7"
   }
  }
 },
 "nbformat": 4,
 "nbformat_minor": 2
}
